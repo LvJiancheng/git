{
 "cells": [
  {
   "cell_type": "code",
   "execution_count": null,
   "metadata": {
    "collapsed": true
   },
   "outputs": [],
   "source": [
    "# -*- coding: utf-8 -*-\n",
    "import scrapy\n",
    "import re \n",
    "\n",
    "\n",
    "class StocksSpider(scrapy.Spider):\n",
    "    name = \"stocks\"\n",
    "    #allowed_domains = [\"baidu.com\"]\n",
    "    \n",
    "    #url为初始的url链接\n",
    "    start_urls = ['http://quote.eastmoney.com/stocklist.html']\n",
    "    \n",
    "\n",
    "    #parse函数作用：解析返回的response，从东方财富网\n",
    "    def parse(self, response):\n",
    "        #对a标签中的链接进行提取\n",
    "        for href in response.css('a :: attr(href)').extract():\n",
    "            \n",
    "            try:\n",
    "                #正则表达式获取其中的股票代码\n",
    "                stock=re.findall(r'[s][hz]\\d{6}',href)[0]\n",
    "                #生成一个对应百度页面的url的链接\n",
    "                url=\"https://gupiao.baidu.com/stock/\"+stock+'.html'\n",
    "                #作为一个新的请求，提交给scrapy 框架。self.parse_stock为对应url响应的处理函数，yield将新的链接重新提交给scrapy框架\n",
    "                yield scrapy.Request(url,callback=self.parse_stock)\n",
    "            except:\n",
    "                continue\n",
    "                \n",
    "    #从百度的单个页面获取信息的函数，由于函数最终要返回提取的信息给itenpipeline，字典类型\n",
    "    def parse_stock(self,response):\n",
    "        infoDict={}\n",
    "        stockInfo=response.css('.stock-bets')#找到‘。stick-bets的信息’\n",
    "        #提取相关的字符串extract（）\n",
    "        name=stockInfo.css('.bets-name').extract()[0]\n",
    "        keylist=stockInfo.css('dt').extract()\n",
    "        valuelist=stockInfo.css('dd').extract()\n",
    "        for i in range(len(keylist)):\n",
    "            key=re.findall(r'\\.*</dt>',keylist[i])[0][1:-5]\n",
    "            try:\n",
    "                val=re.findall(r'\\d+\\.?.*</dd>',valuelist[i])[0][0:-5]\n",
    "            except:\n",
    "                val='--'\n",
    "                infoDict[key]=val\n",
    "        #infoDict.update(\n",
    "        #{'股票名称'：re.findall('\\s.*\\(',name)[0].split()[0]+\\re.findall('\\>.*\\<',name)[0][1:-i]})\n",
    "        yield infoDict"
   ]
  },
  {
   "cell_type": "code",
   "execution_count": null,
   "metadata": {
    "collapsed": true
   },
   "outputs": [],
   "source": [
    "# -*- coding: utf-8 -*-\n",
    "\n",
    "# Define your item pipelines here\n",
    "#\n",
    "# Don't forget to add your pipeline to the ITEM_PIPELINES setting\n",
    "# See: http://doc.scrapy.org/en/latest/topics/item-pipeline.html\n",
    "\n",
    "\n",
    "class BaidustocksPipeline(object):\n",
    "    def process_item(self, item, spider):\n",
    "        return item\n",
    "class BaidustocksInfoPipeline(object):\n",
    "    def open_spider(self,spider):\n",
    "        self.f=open('BaidutockInfo.txt','w')\n",
    "    def close_spider(self,spider):\n",
    "        self.f.close()\n",
    "    def process_item(self,item,spider):\n",
    "        try:\n",
    "            line=str(dict(item))+'\\n'\n",
    "            self.f.write(line)\n",
    "        except:\n",
    "            pass\n",
    "        return item\n",
    "                \n",
    "        \n"
   ]
  },
  {
   "cell_type": "code",
   "execution_count": 1,
   "metadata": {
    "collapsed": false
   },
   "outputs": [
    {
     "ename": "SyntaxError",
     "evalue": "invalid syntax (<ipython-input-1-ef0ee20a94e8>, line 1)",
     "output_type": "error",
     "traceback": [
      "\u001b[0;36m  File \u001b[0;32m\"<ipython-input-1-ef0ee20a94e8>\"\u001b[0;36m, line \u001b[0;32m1\u001b[0m\n\u001b[0;31m    <html>.css（）？\u001b[0m\n\u001b[0m    ^\u001b[0m\n\u001b[0;31mSyntaxError\u001b[0m\u001b[0;31m:\u001b[0m invalid syntax\n"
     ]
    }
   ],
   "source": [
    "\n",
    "\n"
   ]
  },
  {
   "cell_type": "code",
   "execution_count": null,
   "metadata": {
    "collapsed": true
   },
   "outputs": [],
   "source": [
    "<html>.css"
   ]
  },
  {
   "cell_type": "code",
   "execution_count": null,
   "metadata": {
    "collapsed": true
   },
   "outputs": [],
   "source": []
  }
 ],
 "metadata": {
  "kernelspec": {
   "display_name": "Python [python35]",
   "language": "python",
   "name": "Python [python35]"
  },
  "language_info": {
   "codemirror_mode": {
    "name": "ipython",
    "version": 3
   },
   "file_extension": ".py",
   "mimetype": "text/x-python",
   "name": "python",
   "nbconvert_exporter": "python",
   "pygments_lexer": "ipython3",
   "version": "3.5.2"
  }
 },
 "nbformat": 4,
 "nbformat_minor": 0
}
